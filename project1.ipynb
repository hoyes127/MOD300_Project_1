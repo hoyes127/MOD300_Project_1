{
 "cells": [
  {
   "cell_type": "markdown",
   "id": "e7f6b2e6",
   "metadata": {},
   "source": [
    "# Automatic (derivatives) for the people and a song of ice and fire\n",
    "Jahad Ahmed Hamidi, Rebecca Vangen, Ruhan Reza, Stian Salte"
   ]
  },
  {
   "cell_type": "code",
   "execution_count": 1,
   "id": "4df0aeee",
   "metadata": {},
   "outputs": [],
   "source": [
    "import matplotlib.pyplot as plt\n",
    "import numpy as np\n",
    "import math\n"
   ]
  },
  {
   "cell_type": "markdown",
   "id": "ed287611",
   "metadata": {},
   "source": [
    "### Abstract"
   ]
  },
  {
   "cell_type": "markdown",
   "id": "455b3c80",
   "metadata": {},
   "source": [
    "## Introduction"
   ]
  },
  {
   "cell_type": "markdown",
   "id": "d1d75953",
   "metadata": {},
   "source": [
    "## Exercise 1\n",
    "\n",
    "### Part 1\n",
    "\n",
    "We import sys and get float info"
   ]
  },
  {
   "cell_type": "code",
   "execution_count": 2,
   "id": "52a18aa9",
   "metadata": {},
   "outputs": [
    {
     "name": "stdout",
     "output_type": "stream",
     "text": [
      "sys.float_info(max=1.7976931348623157e+308, max_exp=1024, max_10_exp=308, min=2.2250738585072014e-308, min_exp=-1021, min_10_exp=-307, dig=15, mant_dig=53, epsilon=2.220446049250313e-16, radix=2, rounds=1)\n"
     ]
    }
   ],
   "source": [
    "import sys\n",
    "print(sys.float_info)"
   ]
  },
  {
   "cell_type": "markdown",
   "id": "4897fdd5",
   "metadata": {},
   "source": [
    "Max is the largest representable number in computers, similarily min is the smallest representable number in computers.  \n",
    "Epsilon tells us the smallest number we can add to one to get something other than one, the machine precision.\n",
    "\n",
    "Most modern computers work on a finite 64-bit format and processes 64 bits at a time. The values given from `sys.float_info` come from the IEEE 754 standard. In this exercise we will focus on IEEE 754 double precision (64-bit) floating-point number.\n",
    "\n",
    "From the 64 bits we have IEEE reserves one sign bit, 11 exponent bits and 52 fraction(mantissa) bits. There is also a \"hidden bit\" and implies the float always starts with \"1.\". To also represent numbers that have absoloute value less than one a number *bias* is added to the exponent. Bias is a fixed number and in 64 bits it is roughly half the exponent; $2^{11-1}-1 = 1023$. With this we can make a formula: \n",
    "\n",
    "\\begin{equation}\n",
    "±q2^{E-e}\\tag{1}\n",
    "\\end{equation}\n",
    "\n",
    "where ± is the sign bit, q the mantissa, E the exponent and $e$ the bias. E can have values from 0 to $2^{11} - 1$ = 2047. There are two special numbers to represent zero and infinity which are respectively $E = 0$, and $E = 2047$. With bias this gives us the largest possible exponent $2046 - 1023 = 1023$ and smallest exponent $1 - 1023 = -1022$  "
   ]
  },
  {
   "cell_type": "markdown",
   "id": "f22b91fc",
   "metadata": {
    "vscode": {
     "languageId": "latex"
    }
   },
   "source": [
    "To get the max value the exponent needs to be 1023, and the fraction needs be all ones:\n",
    "\n",
    "\\begin{equation}\n",
    "1.111 + (49\\ more\\ ones) \\times 2^{1023} = (2^0 + 2^{-1} + 2^{-2} + ... + 2^{-52}) \\times 2^{1023} = (2 - 2^{-52}) \\times 2^{1023} = 1.7976931348623157 \\times 10^{308}\\tag{2}\n",
    "\\end{equation}\n",
    "\n",
    "To get min we set the mantissa to all zeroes and use the lowest exponent:\n",
    "\n",
    "\\begin{equation}\n",
    "1.000 + (49\\ more\\ zeroes) \\times 2^{-1022} = 2^0 \\times 2^{-1022} = 2.2250738585072014 \\times 10^{-308}\\tag{3}\n",
    "\\end{equation}\n",
    "\n",
    "To find machine epsilon we use the smallest mantissa possible, which is all zeroes except the last bit; $2^{-52} \\times 2^{0} = 2.220446049250313 \\times 10^{-16}$. We cannot use an exponent less than zero because if we add that number to 1, it will still be 1.  "
   ]
  },
  {
   "cell_type": "markdown",
   "id": "b6cbed2d",
   "metadata": {},
   "source": [
    "It is possible to represent smaller numbers by using unnormalized values."
   ]
  },
  {
   "cell_type": "markdown",
   "id": "eef1f332",
   "metadata": {},
   "source": [
    "### Part 2  \n",
    "\n",
    "The following code shows examples of floating-point arithmetic"
   ]
  },
  {
   "cell_type": "code",
   "execution_count": 3,
   "id": "af086364",
   "metadata": {},
   "outputs": [
    {
     "name": "stdout",
     "output_type": "stream",
     "text": [
      "0.30000000000000004 False\n",
      "0.375 True\n"
     ]
    }
   ],
   "source": [
    "print(0.1 + 0.2, 0.1 + 0.2 == 0.3)\n",
    "print(0.125 + 0.25, 0.125 + 0.25 == 0.375)"
   ]
  },
  {
   "cell_type": "markdown",
   "id": "7773dc4c",
   "metadata": {},
   "source": [
    "Seeing as computers store numbers in base-2 format the numbers 0.1, 0.2 and 0.3 cannot be accurately represented in binary, and results in precision error. The numbers 0.125, 0.25 and 0.375 can be represented in binary. We can see what these numbers actually looks like:"
   ]
  },
  {
   "cell_type": "code",
   "execution_count": 4,
   "id": "9f00ebbd",
   "metadata": {},
   "outputs": [
    {
     "name": "stdout",
     "output_type": "stream",
     "text": [
      "0.100000000000000005551115123125782702118158340454101562500000\n",
      "0.200000000000000011102230246251565404236316680908203125000000\n",
      "0.299999999999999988897769753748434595763683319091796875000000\n",
      "\n",
      "0.125000000000000000000000000000000000000000000000000000000000\n",
      "0.250000000000000000000000000000000000000000000000000000000000\n",
      "0.375000000000000000000000000000000000000000000000000000000000\n"
     ]
    }
   ],
   "source": [
    "print(f\"{0.1:.60f}\")\n",
    "print(f\"{0.2:.60f}\")\n",
    "print(f\"{0.3:.60f}\\n\")\n",
    "\n",
    "print(f\"{0.125:.60f}\")\n",
    "print(f\"{0.25:.60f}\")\n",
    "print(f\"{0.375:.60f}\")"
   ]
  },
  {
   "cell_type": "markdown",
   "id": "b83638b3",
   "metadata": {},
   "source": [
    "In the decimal system we have something similar with for example $1/3$ with repeating decimals (0.333...). Since computers work with finite bits it needs to cutoff at a point. This point is set in the mantissa and is at 52 bits.  \n",
    "\n",
    "Numbers like 0.375 can be represented perfectly in binary as $2^{-2} + 2^{-3}$:\n",
    "\n",
    "$$\n",
    "0.375_{10} = 0 \\times 2^{-1} + 1 \\times 2^{-2} + 1 \\times 2^{-3} = 0.011_2\\tag{4}\n",
    "$$ \n",
    "\n",
    "Other numbers that can be represented perfectly in binary are $2^{-1}$ + $2^{-4}$:"
   ]
  },
  {
   "cell_type": "code",
   "execution_count": 5,
   "id": "f85e8c4d",
   "metadata": {},
   "outputs": [
    {
     "name": "stdout",
     "output_type": "stream",
     "text": [
      "0.5625\n"
     ]
    }
   ],
   "source": [
    "print(0.5 + 0.0625)"
   ]
  },
  {
   "cell_type": "markdown",
   "id": "9d4cc98a",
   "metadata": {},
   "source": [
    "Another example that gives precision error is given:"
   ]
  },
  {
   "cell_type": "code",
   "execution_count": 6,
   "id": "12901b58",
   "metadata": {},
   "outputs": [
    {
     "name": "stdout",
     "output_type": "stream",
     "text": [
      "1.299999999999999822364316059974953532218933105468750000000000\n",
      "False\n"
     ]
    }
   ],
   "source": [
    "print(f\"{0.6 + 0.7:.60f}\")\n",
    "print(0.6 + 0.7 == 0.13)"
   ]
  },
  {
   "cell_type": "markdown",
   "id": "051e4ea0",
   "metadata": {},
   "source": [
    "### Part 3  \n",
    "\n",
    "In the previous part we used the ==-operator to compare to floating-point numbers and check if they are equal. Because of these roundoff errors a direct comparison might not give the result we want. We can instead check the difference between the float a and b, and compare that value to check if they are close enough using defined epsilon as tolerance. We can use the formula: "
   ]
  },
  {
   "cell_type": "markdown",
   "id": "c795b9c2",
   "metadata": {},
   "source": [
    "\\begin{equation}\n",
    "|1 - b/a| < \\epsilon\\tag{5}\n",
    "\\end{equation}\n",
    "\n",
    "where epsilon is the tolerance. We test this formula by comparing two floats:"
   ]
  },
  {
   "cell_type": "code",
   "execution_count": 7,
   "id": "f7db079e",
   "metadata": {},
   "outputs": [
    {
     "name": "stdout",
     "output_type": "stream",
     "text": [
      "Should return False: False\n",
      "Should return True: True\n"
     ]
    }
   ],
   "source": [
    "a = 0.1 + 0.2\n",
    "b = 0.1\n",
    "epsilon = 1e-9\n",
    "\n",
    "print(\"Should return False:\", abs(1 - b/a) < epsilon)\n",
    "\n",
    "a = 0.1 + 0.2\n",
    "b = 0.3\n",
    "epsilon = 1e-9\n",
    "\n",
    "print(\"Should return True:\", abs(1 - b/a) < epsilon)"
   ]
  },
  {
   "cell_type": "markdown",
   "id": "8ba86380",
   "metadata": {},
   "source": [
    "## Exercise 3\n",
    "\n",
    "### Part 1\n",
    "\n",
    "Plotting the following function for describing wave phenomenona using matplotlib:"
   ]
  },
  {
   "cell_type": "markdown",
   "id": "0e9e16e3",
   "metadata": {},
   "source": [
    "\\begin{equation}\n",
    "f(x) = cos(bx) \\times e^{-ax^{2}}\\tag{6}\n",
    "\\end{equation}"
   ]
  },
  {
   "cell_type": "code",
   "execution_count": 8,
   "id": "595cdca3",
   "metadata": {},
   "outputs": [
    {
     "name": "stdout",
     "output_type": "stream",
     "text": [
      "-0.7592233159170217\n"
     ]
    },
    {
     "data": {
      "image/png": "[encoded data removed]",
      "text/plain": [
       "<Figure size 640x480 with 1 Axes>"
      ]
     },
     "metadata": {},
     "output_type": "display_data"
    }
   ],
   "source": [
    "import matplotlib.pyplot as plt\n",
    "def f(x, a=0.1, b=10):\n",
    "    return np.cos(b*x)*np.exp(-a*x*x)\n",
    "\n",
    "x = np.linspace(-10, 10, 1000)\n",
    "y = f(x)\n",
    "print(f(1))\n",
    "plt.plot(x,y, label=\"A Gaussian wave packet\")\n",
    "plt.xlabel(\"x\")\n",
    "plt.ylabel(\"f(x)\")\n",
    "plt.grid()\n",
    "plt.legend()\n",
    "plt.show()"
   ]
  },
  {
   "cell_type": "markdown",
   "id": "748cf80e",
   "metadata": {},
   "source": [
    "### Part 2  \n",
    "\n",
    "Implementing the analytical derivative of f(x) in code:"
   ]
  },
  {
   "cell_type": "code",
   "execution_count": 9,
   "id": "2b3bdd42",
   "metadata": {},
   "outputs": [],
   "source": [
    "def f_derived(x, a=0.1, b=10):\n",
    "    return -b*np.sin(b*x)*np.exp(-a*x*x) - 2*a*x*np.cos(b*x)*np.exp(-a*x*x)\n"
   ]
  },
  {
   "cell_type": "markdown",
   "id": "b7238ced",
   "metadata": {},
   "source": [
    "### Part 3  \n",
    "\n",
    "calculating the derivative of sinx using the forward difference method:"
   ]
  },
  {
   "cell_type": "code",
   "execution_count": 10,
   "id": "ae7140d6",
   "metadata": {},
   "outputs": [
    {
     "name": "stdout",
     "output_type": "stream",
     "text": [
      "sin(1) =  0.8414709848078965\n",
      "cos(1) ≈ 0.5402602314175109\n"
     ]
    }
   ],
   "source": [
    "def sine(x):\n",
    "    return np.sin(x)\n",
    "\n",
    "def forward_difference(f,x,h, **kwargs):\n",
    "    \"\"\"\n",
    "    f: any function\n",
    "    x: a point\n",
    "    h: step size\n",
    "    **kwargs: takes additional parameters\n",
    "    \"\"\"\n",
    "    return (f(x+h, **kwargs) - f(x, **kwargs))/ h\n",
    "\n",
    "print(\"sin(1) = \", sine(1))\n",
    "print(\"cos(1) ≈\", forward_difference(sine, 1, 1e-4))"
   ]
  },
  {
   "cell_type": "markdown",
   "id": "bcce2d42",
   "metadata": {},
   "source": [
    "We then applied forward_difference() to function (6), choosing a step size of $h = 1e-4$"
   ]
  },
  {
   "cell_type": "code",
   "execution_count": 11,
   "id": "77f08500",
   "metadata": {},
   "outputs": [
    {
     "name": "stdout",
     "output_type": "stream",
     "text": [
      "Numerical derivative: 5.078054076034233\n",
      "Analytical derivative: 5.074351236525324\n"
     ]
    }
   ],
   "source": [
    "print(\"Numerical derivative:\", forward_difference(f, x=1, h=1e-4))\n",
    "print(\"Analytical derivative:\", f_derived(1))"
   ]
  },
  {
   "cell_type": "markdown",
   "id": "d19e4e0f",
   "metadata": {},
   "source": [
    "The code shows us that the numerical estimate is reasonably close to the analytical derivative."
   ]
  },
  {
   "cell_type": "markdown",
   "id": "0fd4573b",
   "metadata": {},
   "source": [
    "### Part 4  \n",
    "\n",
    "Calculating the derivative using central difference method:"
   ]
  },
  {
   "cell_type": "code",
   "execution_count": 12,
   "id": "3377598b",
   "metadata": {},
   "outputs": [
    {
     "name": "stdout",
     "output_type": "stream",
     "text": [
      "Numerical derivative: 5.0743503361028175\n",
      "Analytical derivative: 5.074351236525324\n"
     ]
    }
   ],
   "source": [
    "def central_difference(f, x, h, **kwargs):\n",
    "    \"\"\"\n",
    "    f: any function\n",
    "    x: a point\n",
    "    h: step size\n",
    "    **kwargs: takes additional parameters\n",
    "    \"\"\"\n",
    "    return 0.5*(f(x+h, **kwargs)-f(x-h, **kwargs))/h\n",
    "\n",
    "print(\"Numerical derivative:\", central_difference(f, x=1, h=1e-4))\n",
    "print(\"Analytical derivative:\", f_derived(1))"
   ]
  },
  {
   "cell_type": "markdown",
   "id": "e5b720f9",
   "metadata": {},
   "source": [
    "### Part 5  \n",
    "\n",
    "Quantifying numerical error"
   ]
  },
  {
   "cell_type": "code",
   "execution_count": 13,
   "id": "bbddf915",
   "metadata": {},
   "outputs": [
    {
     "data": {
      "image/png": "[encoded data removed]",
      "text/plain": [
       "<Figure size 640x480 with 1 Axes>"
      ]
     },
     "metadata": {},
     "output_type": "display_data"
    }
   ],
   "source": [
    "steps = np.logspace(-16, 1)\n",
    "\n",
    "forward_diff = forward_difference(f, 1, steps)\n",
    "central_diff = central_difference(f, 1, steps)\n",
    "analytical = f_derived(1)\n",
    "\n",
    "\n",
    "plt.plot(steps, np.abs(analytical - forward_diff), \"*\", label=\"Forward differention\")\n",
    "plt.plot(steps, np.abs(analytical - central_diff), \"^\", label=\"Central differention\")\n",
    "plt.grid()\n",
    "plt.legend()\n",
    "plt.xscale(\"log\")\n",
    "plt.yscale(\"log\")\n",
    "plt.xlabel(\"Step size h\")\n",
    "plt.ylabel(\"Numerical error\")\n",
    "plt.title(\"Forward and Central differention\")\n",
    "plt.show()\n",
    "\n"
   ]
  },
  {
   "cell_type": "markdown",
   "id": "46e58b08",
   "metadata": {},
   "source": [
    "The graph shows us numerical error as step size decreases from right to left. We see that with a large step size numerical error is high. As the step size decreases so does numerical error. At a certain point numerical error starts to increase again as the step size gets even smaller.\n",
    "\n",
    "Using forward difference the numerical error decreases linearily as h decreases, for example if step size decreases by 100 the numerical error will reduce by 100. Central difference scales quadratically with $h^2$ meaning decreasing step size by 10 will reduce numerical error by 100.  \n",
    "\n",
    "The reason for increasing numerical errors on both sides of each graph is a combination of truncation and roundoff errors. at the right side the dominant factor is truncation error. As we use smaller and smaller step size h our numerical approximations will get closer to the analytical derivative thus lower numerical error. So for a larger step size we will get a larger truncation error. \n",
    "\n",
    "The graph also shows numerical error is at its smallest when $h ≈ 10^{-9}$ for forward differention and $h ≈ 10^{-6}$ for central differention. We see that using lower values for h will lead to roundoff errors becoming more and more dominant. We use the following equation to see that the numerical error corresponds with the forward differention graph at the lowest point:\n"
   ]
  },
  {
   "cell_type": "markdown",
   "id": "cf8b07f6",
   "metadata": {},
   "source": [
    "\\begin{equation}\n",
    "R = \\frac{2 \\epsilon |f(x)|}{h} + \\frac{h}{2}|f''(\\eta )|\\tag{7}\n",
    "\\end{equation}"
   ]
  },
  {
   "cell_type": "markdown",
   "id": "6898efc4",
   "metadata": {},
   "source": [
    "\\begin{equation}\n",
    "R = \\frac{2 \\times 2.2 \\times 10^{-16} \\times |-0.76| }{10^{-9}} + \\frac{10^{-9}}{2} = 3.35 \\times 10^{-7} \\tag{8}\n",
    "\\end{equation}"
   ]
  },
  {
   "cell_type": "markdown",
   "id": "11df64ea",
   "metadata": {},
   "source": [
    "# Excersice 4 - Automatic for the people?"
   ]
  },
  {
   "cell_type": "code",
   "execution_count": 14,
   "id": "2215b9f3",
   "metadata": {},
   "outputs": [],
   "source": [
    "# Shared imports (used in later parts)\n",
    "import numpy as np"
   ]
  },
  {
   "cell_type": "markdown",
   "id": "e4fe33b2",
   "metadata": {},
   "source": [
    "## Part 1 -  Familiarization with Classes\n",
    "\n",
    "**Goal.** Understand how a simple class can encapsulate both a function value and its derivative, and why default\n",
    "arguments matter.\n",
    "\n",
    "### The `duple` class\n",
    "The class below stores two related numbers:\n",
    "- `top`: the function value, $f(x)$\n",
    "- `bottom`: the derivative, $f'(x)$\n",
    "\n",
    "If `bottom` is omitted, it defaults to 0, which is consistent with the fact that constants have zero derivative."
   ]
  },
  {
   "cell_type": "code",
   "execution_count": 15,
   "id": "87eae303",
   "metadata": {},
   "outputs": [],
   "source": [
    "class duple:\n",
    "    '''\n",
    "    Class for automatic differentiation\n",
    "    top: function value\n",
    "    bottom: derivative of function \n",
    "    '''\n",
    "    def __init__(self, top, bottom=0):\n",
    "        self.top = top\n",
    "        self.bottom = bottom"
   ]
  },
  {
   "cell_type": "markdown",
   "id": "3f6bae3f",
   "metadata": {},
   "source": [
    "### Experiments\n",
    "We compare an object created with and without an explicit derivative."
   ]
  },
  {
   "cell_type": "code",
   "execution_count": 16,
   "id": "95b94086",
   "metadata": {},
   "outputs": [
    {
     "name": "stdout",
     "output_type": "stream",
     "text": [
      "x: 3 1\n",
      "y: 3 0\n"
     ]
    }
   ],
   "source": [
    "x = duple(3, 1)\n",
    "y = duple(3)\n",
    "\n",
    "print(\"x:\", x.top, x.bottom)  # 3 1\n",
    "print(\"y:\", y.top, y.bottom)  # 3 0"
   ]
  },
  {
   "cell_type": "markdown",
   "id": "98275be0",
   "metadata": {},
   "source": [
    "### Explanation\n",
    "\n",
    "When we create the object:\n",
    "\n",
    "`x = duple(3, 1)`  \n",
    "`print(x.top, x.bottom)`\n",
    "\n",
    "the constructor `__init__(self, top, bottom=0)` is called with:  \n",
    "- `x.top = 3` → the function value \\( f(x) \\)  \n",
    "- `x.bottom = 1` → the derivative \\( f'(x) \\)  \n",
    "\n",
    "This prints:  \n",
    "**3 1**\n",
    "\n",
    "---\n",
    "\n",
    "If we instead write:\n",
    "\n",
    "`y = duple(3)`  \n",
    "`print(y.top, y.bottom)`\n",
    "\n",
    "only the first argument is provided. Since the constructor has the default value `bottom=0`, Python assigns:  \n",
    "- `y.top = 3` → the function value \\( f(x) \\)  \n",
    "- `y.bottom = 0` → the derivative defaults to zero  \n",
    "\n",
    "This prints:  \n",
    "**3 0**\n",
    "\n",
    "---\n",
    "\n",
    "### Why does this make sense?\n",
    "\n",
    "The `duple` class is designed to represent both a function value and its derivative.  \n",
    "In calculus, a constant has derivative zero. Therefore, when no derivative is specified, the default of `0` ensures correct mathematical behavior.\n",
    "\n",
    "- `duple(3, 1)` represents \\( f(x) = 3, \\; f'(x) = 1 \\)  \n",
    "- `duple(3)` represents \\( f(x) = 3, \\; f'(x) = 0 \\)  \n",
    "\n",
    "This demonstrates how **constructors** and **default arguments** in Python make the class both flexible and mathematically consistent.\n"
   ]
  },
  {
   "cell_type": "markdown",
   "id": "bc7e3558",
   "metadata": {},
   "source": [
    "# Second part of part 1"
   ]
  },
  {
   "cell_type": "code",
   "execution_count": 17,
   "id": "49a2680e",
   "metadata": {},
   "outputs": [
    {
     "name": "stdout",
     "output_type": "stream",
     "text": [
      "Point: 1 2 3\n"
     ]
    }
   ],
   "source": [
    "class Point:\n",
    "    \"\"\"Simple Point class in 3D space.\"\"\"\n",
    "    def __init__(self, x, y, z):\n",
    "        self.x = x\n",
    "        self.y = y\n",
    "        self.z = z\n",
    "\n",
    "p = Point(1, 2, 3)\n",
    "print(\"Point:\", p.x, p.y, p.z)"
   ]
  },
  {
   "cell_type": "markdown",
   "id": "5edc1187",
   "metadata": {},
   "source": [
    "This reinforces the idea that a class is a **blueprint** and each object is an **instance** with its own internal state."
   ]
  },
  {
   "cell_type": "markdown",
   "id": "caaaaff5",
   "metadata": {},
   "source": [
    "## Part 2 — Subtraction and Unary Operators for `duple`\n",
    "To behave like a numeric type, `duple` needs subtraction and unary operators. We implement:\n",
    "- `__sub__(self, d)`: $(u-v)' = u' - v'$\n",
    "- `__pos__(self)`: $+(u,u') = (u, u')$\n",
    "- `__neg__(self)`: $-(u,u') = (-u, -u')$\n",
    "\n",
    "We also add pretty string representations for readability."
   ]
  },
  {
   "cell_type": "markdown",
   "id": "8cefaeb7",
   "metadata": {},
   "source": [
    "## Addison and Subtraction"
   ]
  },
  {
   "cell_type": "code",
   "execution_count": 18,
   "id": "e6632fde",
   "metadata": {},
   "outputs": [
    {
     "name": "stdout",
     "output_type": "stream",
     "text": [
      "4 6\n",
      "[4,6]\n"
     ]
    }
   ],
   "source": [
    "class duple:\n",
    "    \"\"\"\n",
    "    Class for automatic differentiation\n",
    "    top: function value\n",
    "    bottom: derivative of function\n",
    "    \"\"\"\n",
    "    def __init__(self, top, bottom=0):\n",
    "        self.top = top\n",
    "        self.bottom = bottom\n",
    "\n",
    "    # u + v -> (u.top + v.top, u.bottom + v.bottom)\n",
    "    def __add__(self, d):\n",
    "        return duple(self.top + d.top, self.bottom + d.bottom)\n",
    "\n",
    "    # Shown in REPL\n",
    "    def __repr__(self):\n",
    "        return \"[\" + str(self.top) + \",\" + str(self.bottom) + \"]\"\n",
    "\n",
    "    # Shown by print(...)\n",
    "    def __str__(self):\n",
    "        return \"[\" + str(self.top) + \",\" + str(self.bottom) + \"]\"\n",
    "\n",
    "\n",
    "# Demo (Part 1)\n",
    "x = duple(1, 2)   # f(x)=1, f'(x)=2\n",
    "y = duple(3, 4)   # g(x)=3, g'(x)=4\n",
    "z = x + y\n",
    "\n",
    "print(z.top, z.bottom)  # -> 4 6\n",
    "print(x + y)            # -> [4,6]\n"
   ]
  },
  {
   "cell_type": "code",
   "execution_count": 19,
   "id": "e86d17a2",
   "metadata": {},
   "outputs": [],
   "source": [
    "class duple:\n",
    "    '''\n",
    "    Class for automatic differentiation (extended with more operators)\n",
    "    '''\n",
    "    def __init__(self, top, bottom=0):\n",
    "        self.top = top\n",
    "        self.bottom = bottom\n",
    "\n",
    "    # u + v\n",
    "    def __add__(self, d):\n",
    "        return duple(self.top + d.top, self.bottom + d.bottom)\n",
    "\n",
    "    # u - v\n",
    "    def __sub__(self, d):\n",
    "        return duple(self.top - d.top, self.bottom - d.bottom)\n",
    "\n",
    "    # +u\n",
    "    def __pos__(self):\n",
    "        return duple(+self.top, +self.bottom)\n",
    "\n",
    "    # -u\n",
    "    def __neg__(self):\n",
    "        return duple(-self.top, -self.bottom)\n",
    "\n",
    "    def __repr__(self):\n",
    "        return f\"[{self.top},{self.bottom}]\"\n",
    "\n",
    "    def __str__(self):\n",
    "        return f\"[{self.top},{self.bottom}]\""
   ]
  },
  {
   "cell_type": "code",
   "execution_count": 20,
   "id": "8d04ca90",
   "metadata": {},
   "outputs": [
    {
     "name": "stdout",
     "output_type": "stream",
     "text": [
      "+a -> [1,2]\n",
      "-a -> [-1,-2]\n",
      "a-b -> [-2,-2]\n"
     ]
    }
   ],
   "source": [
    "a = duple(1, 2)\n",
    "b = duple(3, 4)\n",
    "print(\"+a ->\", +a)   # [1,2]\n",
    "print(\"-a ->\", -a)   # [-1,-2]\n",
    "print(\"a-b ->\", a - b)  # [-2,-2]"
   ]
  },
  {
   "cell_type": "markdown",
   "id": "1d416c56",
   "metadata": {},
   "source": [
    "### What happens when you do `x + y`?\n",
    "\n",
    "Let us consider two objects of the `duple` class:\n",
    "\n",
    "`x = duple(1, 2)`  \n",
    "`y = duple(3, 4)`  \n",
    "\n",
    "Before we extend the class, if we try:\n",
    "\n",
    "`z = x + y`  \n",
    "\n",
    "Python raises an error:\n",
    "\n",
    "**TypeError: unsupported operand type(s) for +: 'duple' and 'duple'**\n",
    "\n",
    "This error occurs because Python does not automatically know how to add two objects of our custom class. The `+` operator works only on built-in data types unless we explicitly tell Python what to do.\n",
    "\n",
    "---\n",
    "\n",
    "### Fix: Operator Overloading with `__add__`\n",
    "\n",
    "We fix the problem by adding the method `__add__` inside the class:\n",
    "\n",
    "`def __add__(self, d):`  \n",
    "&nbsp;&nbsp;&nbsp;&nbsp;`return duple(self.top + d.top, self.bottom + d.bottom)`\n",
    "\n",
    "Now, when we call `x + y`, Python will create a new `duple` object where:\n",
    "\n",
    "- the `top` values are added: `1 + 3 = 4`  \n",
    "- the `bottom` values are added: `2 + 4 = 6`  \n",
    "\n",
    "So:  \n",
    "`x + y = [4, 6]`\n",
    "\n",
    "---\n",
    "\n",
    "### Improving the Output\n",
    "\n",
    "Without further changes, printing the object shows a technical memory reference such as:  \n",
    "\n",
    "`<__main__.duple object at 0x...>`\n",
    "\n",
    "To make this more user-friendly, we also define:\n",
    "\n",
    "- `__repr__` → how the object is shown in a Jupyter cell.  \n",
    "- `__str__` → how the object is shown with `print()`.  \n",
    "\n",
    "Both are set to return `\"[top,bottom]\"`.  \n",
    "\n",
    "Now both `print(x+y)` and `x+y` directly display:\n",
    "\n",
    "`[4,6]`\n",
    "\n",
    "---\n",
    "\n",
    "### Conclusion\n",
    "\n",
    "When you do `x + y`:  \n",
    "- Before defining `__add__`, it caused a **TypeError**.  \n",
    "- After defining `__add__`, Python correctly returns a new object with the summed function value and derivative.  \n",
    "- With `__repr__` and `__str__`, the result is displayed clearly as `[4,6]`.  \n",
    "\n",
    "Thus, the `duple` class now supports addition exactly as intended, combining both function values and derivatives in one step.\n"
   ]
  },
  {
   "cell_type": "markdown",
   "id": "79cb5d8a",
   "metadata": {},
   "source": [
    "## Part 3 — Multiplication and Division (Product & Quotient Rules)\n",
    "Addition and subtraction treat `top` and `bottom` symmetrically because they are linear. For multiplication/division we\n",
    "must apply calculus rules:\n",
    "\n",
    "- **Product rule**: $(fg)' = f'g + fg'$  \n",
    "- **Quotient rule**: $\\left(\\frac{f}{g}\\right)' = \\frac{f'g - fg'}{g^2}$\n",
    "\n",
    "We extend `duple` accordingly."
   ]
  },
  {
   "cell_type": "code",
   "execution_count": 21,
   "id": "d7ab5fab",
   "metadata": {},
   "outputs": [],
   "source": [
    "class duple:\n",
    "    '''\n",
    "    Class for automatic differentiation (now with * and /)\n",
    "    '''\n",
    "    def __init__(self, top, bottom=0):\n",
    "        self.top = top\n",
    "        self.bottom = bottom\n",
    "\n",
    "    def __add__(self, d):  # u+v\n",
    "        return duple(self.top + d.top, self.bottom + d.bottom)\n",
    "\n",
    "    def __sub__(self, d):  # u-v\n",
    "        return duple(self.top - d.top, self.bottom - d.bottom)\n",
    "\n",
    "    def __pos__(self):     # +u\n",
    "        return duple(+self.top, +self.bottom)\n",
    "\n",
    "    def __neg__(self):     # -u\n",
    "        return duple(-self.top, -self.bottom)\n",
    "\n",
    "    def __mul__(self, d):  # u*v\n",
    "        return duple(self.top * d.top,\n",
    "                     self.bottom * d.top + self.top * d.bottom)\n",
    "\n",
    "    def __truediv__(self, d):  # u/v\n",
    "        return duple(self.top / d.top,\n",
    "                     (self.bottom * d.top - self.top * d.bottom) / (d.top ** 2))\n",
    "\n",
    "    def __repr__(self):\n",
    "        return f\"[{self.top},{self.bottom}]\"\n",
    "\n",
    "    def __str__(self):\n",
    "        return f\"[{self.top},{self.bottom}]\""
   ]
  },
  {
   "cell_type": "markdown",
   "id": "8f87528e",
   "metadata": {},
   "source": [
    "### Verification tests\n",
    "We now test three functions at $x=1.2$: $x^3$, $\\frac{1}{1+x}$, and $e^x\\sin x$."
   ]
  },
  {
   "cell_type": "code",
   "execution_count": 22,
   "id": "7fa00fee",
   "metadata": {},
   "outputs": [
    {
     "name": "stdout",
     "output_type": "stream",
     "text": [
      "x^3  -> auto: [1.728,4.32]  analytical: 1.7279999999999998 4.32\n",
      "1/(1+x) -> auto: [0.45454545454545453,-0.20661157024793386]  analytical: 0.45454545454545453 -0.20661157024793386\n",
      "exp*sin -> auto: [3.0944787419716917,4.297548854694511]  analytical: 3.0944787419716917 4.297548854694511\n"
     ]
    }
   ],
   "source": [
    "x_val = 1.2\n",
    "One = duple(1.0, 0.0)\n",
    "X = duple(x_val, 1.0)\n",
    "\n",
    "# x^3\n",
    "print(\"x^3  -> auto:\", X*X*X, \" analytical:\", x_val**3, 3*x_val**2)\n",
    "\n",
    "# 1/(1+x)\n",
    "print(\"1/(1+x) -> auto:\", One/(One+X), \" analytical:\", 1/(1+x_val), -1/(1+x_val)**2)\n",
    "\n",
    "# exp(x)*sin(x)\n",
    "Exp = duple(np.exp(x_val), np.exp(x_val))\n",
    "Sin = duple(np.sin(x_val), np.cos(x_val))\n",
    "print(\"exp*sin -> auto:\", Exp*Sin,\n",
    "      \" analytical:\", np.exp(x_val)*np.sin(x_val),\n",
    "      np.exp(x_val)*(np.sin(x_val)+np.cos(x_val)))"
   ]
  },
  {
   "cell_type": "markdown",
   "id": "908fcc83",
   "metadata": {},
   "source": [
    "### Verification tests — what we did and what the results show\n",
    "\n",
    "We verified our implementations of the **product rule** and **quotient rule** in `duple` by testing three functions at $x = 1.2$:\n",
    "\n",
    "1. **Cubic function**  \n",
    "   - Function: $f(x) = x^3$  \n",
    "   - Analytical derivative: $f'(x) = 3x^2$  \n",
    "   - Result: **auto diff** $[1.728,\\; 4.32]$ vs **analytical** $(1.728,\\; 4.32)$  \n",
    "\n",
    "2. **Rational function**  \n",
    "   - Function: $f(x) = \\frac{1}{1+x}$  \n",
    "   - Analytical derivative: $f'(x) = -\\frac{1}{(1+x)^2}$  \n",
    "   - Result: **auto diff** $[0.454545\\ldots,\\; -0.20661157\\ldots]$  \n",
    "     vs **analytical** $(0.454545\\ldots,\\; -0.20661157\\ldots)$  \n",
    "\n",
    "3. **Exponential–trigonometric product**  \n",
    "   - Function: $f(x) = e^{x}\\sin(x)$  \n",
    "   - Analytical derivative:  \n",
    "\n",
    "     $$\n",
    "     f'(x) = e^{x}\\sin(x) + e^{x}\\cos(x)\n",
    "     $$  \n",
    "\n",
    "   - Result: **auto diff** $[3.09447874,\\; 4.29754885]$  \n",
    "     vs **analytical** $(3.09447874,\\; 4.29754885)$  \n",
    "\n",
    "---\n",
    "\n",
    "#### Interpretation\n",
    "\n",
    "- For $x^3$, repeated multiplication of dual numbers applies the **product rule** correctly.  \n",
    "- For $\\tfrac{1}{1+x}$, division of dual numbers applies the **quotient rule** correctly.  \n",
    "- For $e^{x}\\sin(x)$, the framework combines elementary functions via composition and multiplication, and the result matches the expected derivative.  \n",
    "\n",
    "Across all three cases, the **automatic** results match the **analytical** results to machine precision (only minor rounding differences).  \n",
    "This validates that our `__mul__` and `__truediv__` implementations correctly encode the product and quotient rules within the `duple` class.\n"
   ]
  },
  {
   "cell_type": "markdown",
   "id": "96c44218",
   "metadata": {},
   "source": [
    "## Part 4 — Adding More Functions via the Chain Rule\n",
    "Real models compose elementary functions. Rather than hard–coding each derivative into `duple`, we introduce a *function\n",
    "wrapper* `dfunction(f, df)` that applies the **chain rule** when called on a `duple`:\n",
    "$$\n",
    "(f(g(x)))' = f'(g(x))\\,g'(x).\n",
    "$$"
   ]
  },
  {
   "cell_type": "code",
   "execution_count": 23,
   "id": "65fce401",
   "metadata": {},
   "outputs": [],
   "source": [
    "class dfunction:\n",
    "    def __init__(self, f, df):\n",
    "        self.f = f\n",
    "        self.df = df\n",
    "    def __call__(self, d: duple):\n",
    "        return duple(self.f(d.top), self.df(d.top) * d.bottom)"
   ]
  },
  {
   "cell_type": "markdown",
   "id": "3f1c628a",
   "metadata": {},
   "source": [
    "### Example: $\\log(1+e^x)$"
   ]
  },
  {
   "cell_type": "code",
   "execution_count": 24,
   "id": "082e584b",
   "metadata": {},
   "outputs": [
    {
     "name": "stdout",
     "output_type": "stream",
     "text": [
      "auto diff  = [3.144063967938574,0.9568927450589139]\n",
      "analytical = 3.144063967938574 0.9568927450589139\n"
     ]
    }
   ],
   "source": [
    "Log = dfunction(np.log, lambda z: 1/z)\n",
    "Exp = dfunction(np.exp, np.exp)\n",
    "\n",
    "x = 3.1\n",
    "X = duple(x, 1)\n",
    "One = duple(1.0, 0.0)\n",
    "\n",
    "auto = Log(One + Exp(X))\n",
    "analytical = (np.log(1+np.exp(x)), np.exp(x)/(1+np.exp(x)))\n",
    "print(\"auto diff  =\", auto)\n",
    "print(\"analytical =\", analytical[0], analytical[1])"
   ]
  },
  {
   "cell_type": "markdown",
   "id": "dc10f7a6",
   "metadata": {},
   "source": [
    "## Part 4 — Adding More Functions via the Chain Rule - results\n",
    "\n",
    "Here we tested whether the `dfunction` class correctly applies the **chain rule**:\n",
    "\n",
    "$$(f(g(x)))' = f'(g(x)) \\cdot g'(x).$$\n",
    "\n",
    "We used the function:\n",
    "\n",
    "$$F(x) = \\ln(1 + e^x).$$\n",
    "\n",
    "---\n",
    "\n",
    "### Verification of Results\n",
    "\n",
    "For $x = 3.1$, the test produced:\n",
    "\n",
    "- **Auto diff**: $[3.1440639679,\\; 0.9568927450]$  \n",
    "- **Analytical**: $\\left(\\ln(1+e^{3.1}), \\; \\frac{e^{3.1}}{1+e^{3.1}}\\right) = (3.1440639679,\\; 0.9568927450)$\n",
    "\n",
    "The results matched exactly, up to numerical rounding.\n",
    "\n",
    "---\n",
    "\n",
    "### Discussion\n",
    "\n",
    "- The value of the function matched: both methods gave $3.14406\\dots$.  \n",
    "- The derivative also matched: both gave $0.95689\\dots$.  \n",
    "- This shows that the **chain rule was applied correctly**:  \n",
    "  - The outer function ($\\ln$) contributed its derivative $1/x$,  \n",
    "  - The inner function ($1 + e^x$) contributed $e^x$,  \n",
    "  - And the system multiplied them together automatically.  \n",
    "\n",
    "In other words, instead of explicitly writing the derivative of $\\ln(1+e^x)$, the `dfunction` framework propagated the derivative correctly step by step.  \n",
    "This demonstrates that the system can now handle **composed functions** in a general way, making it much more powerful and reusable.\n",
    "\n",
    "\n",
    "As expected, both the value and derivative match: the derivative is $\\frac{e^x}{1+e^x}$."
   ]
  },
  {
   "cell_type": "markdown",
   "id": "3c4458f8",
   "metadata": {},
   "source": [
    "## Part 5 — Wave Function $f(x)=a\\sin(bx)$\n",
    "We now apply the framework to a simple wave:\n",
    "$$\n",
    "f(x)=a\\sin(bx),\\qquad f'(x)=ab\\cos(bx).\n",
    "$$"
   ]
  },
  {
   "cell_type": "code",
   "execution_count": 25,
   "id": "df04ebfe",
   "metadata": {},
   "outputs": [
    {
     "name": "stdout",
     "output_type": "stream",
     "text": [
      "auto diff  = [1.973759349224876,1.994673685838638]\n",
      "analytical = 1.973759349224876 1.994673685838638\n"
     ]
    }
   ],
   "source": [
    "Sin = dfunction(np.sin, np.cos)\n",
    "\n",
    "x = 0.7; a = 2.5; b = 1.3\n",
    "X = duple(x, 1.0)\n",
    "A = duple(a, 0.0)\n",
    "B = duple(b, 0.0)\n",
    "\n",
    "f_auto = A * Sin(B * X)\n",
    "f_val  = a * np.sin(b*x)\n",
    "f_der  = a*b*np.cos(b*x)\n",
    "\n",
    "print(\"auto diff  =\", f_auto)\n",
    "print(\"analytical =\", f_val, f_der)"
   ]
  },
  {
   "cell_type": "markdown",
   "id": "32b57dbc",
   "metadata": {},
   "source": [
    "## Part 5 — Wave Function Verification\n",
    "\n",
    "We tested the wave function  \n",
    "\n",
    "$ f(x) = a\\sin(bx), \\qquad f'(x) = ab\\cos(bx) $  \n",
    "\n",
    "using the `dfunction` framework. For the chosen values $x = 0.7$, $a = 2.5$, and $b = 1.3$, the results were:\n",
    "\n",
    "- **Auto diff**: $[1.973759349224876,\\; 1.994673685838638]$  \n",
    "- **Analytical**: $(1.973759349224876,\\; 1.994673685838638)$\n",
    "\n",
    "---\n",
    "\n",
    "### Discussion\n",
    "\n",
    "The automatic differentiation result matches the analytical calculation perfectly (up to floating-point tolerance). This confirms two important aspects:\n",
    "\n",
    "1. **Correctness of composition**: The chain rule was applied correctly when handling $\\sin(bx)$.  \n",
    "2. **Scaling by constants**: Multiplication with $a$ and $b$ was handled properly by the product rule.\n",
    "\n",
    "This shows that the framework not only works for simple functions like polynomials and rational functions, but also for composed wave functions where constants and trigonometric functions interact. The consistency between the two methods validates that our implementation of the chain rule and scaling in `dfunction` is mathematically sound.\n"
   ]
  },
  {
   "cell_type": "markdown",
   "id": "045951f6",
   "metadata": {},
   "source": [
    "## Part 6 — Reflections on Automatic Differentiation\n",
    "\n",
    "Automatic differentiation (AD) has become a central tool in many scientific and engineering applications. One of the most prominent uses is in **machine learning**, where AD makes it possible to train neural networks efficiently through backpropagation. Without AD, calculating gradients for millions of parameters would be impractical. AD is also widely used in **optimization**, where gradient–based solvers such as quasi–Newton or conjugate gradient methods rely on accurate and efficient derivatives. In **computational physics and engineering**, AD is applied for sensitivity analysis, parameter estimation, and model calibration. Similarly, in **scientific computing**, AD is useful for constructing Jacobians required in solving systems of differential equations and for performing uncertainty quantification.\n",
    "\n",
    "Compared to numerical differentiation, AD has several important advantages. First, it is **accurate**: while numerical differentiation relies on finite differences that are prone to truncation and round–off errors, AD computes derivatives exactly up to machine precision. Second, AD is **efficient**: it avoids the repeated function evaluations needed in finite–difference methods, which typically scale poorly with the number of input dimensions. For example, forward finite differences require $O(d)$ function evaluations for $d$ parameters, while AD can propagate derivatives with essentially the same cost as evaluating the function itself. Third, AD is **general**: once the differentiation rules for basic operations and functions are implemented, it can automatically handle any composition of these functions without additional work from the user.\n",
    "\n",
    "However, AD is not without drawbacks. The main limitation is its **implementation complexity**. Numerical differentiation is conceptually simple—just evaluate the function at slightly perturbed values—whereas AD requires more advanced programming techniques such as operator overloading or computational graph tracing. Another potential weakness is **memory usage**, especially in reverse–mode AD, where many intermediate values must be stored to compute derivatives efficiently. Finally, AD can sometimes be less transparent or harder to debug than a straightforward finite–difference approach.\n",
    "\n",
    "In summary, automatic differentiation combines high accuracy with computational efficiency, making it indispensable for modern computational workflows. While it requires more sophisticated implementation and can demand additional memory, its strengths outweigh these challenges in most practical applications, which explains why it is now the standard approach in areas like machine learning, optimization, and scientific computing.\n"
   ]
  },
  {
   "cell_type": "markdown",
   "id": "80335fb8",
   "metadata": {},
   "source": [
    "## Conclusion and Discussion"
   ]
  },
  {
   "cell_type": "markdown",
   "id": "bbbf6950",
   "metadata": {},
   "source": [
    "## Self-reflections\n",
    "\n",
    "**Stian**: I started quite early with the project and got a lot of work done over a steady period of time. I did Exercise 1 and 3, in which I found it enjoyable to both find out why floating point errors exist and also quantifying it in a plot. As a group i think it was pretty smooth as we managed to divide the tasks quickly and do our work."
   ]
  },
  {
   "cell_type": "markdown",
   "id": "9b7d999d",
   "metadata": {},
   "source": [
    "### Self-reflections\n",
    "\n",
    "**Ruhan:**  \n",
    "I was mainly responsible for **Exercise 4 – Automatic Differentiation**, which involved everything from constructing the `duple` class to implementing addition, subtraction, multiplication/division, and finally extending it with the chain rule and more advanced functions. This meant working step by step from the basics of dual numbers to verifying that the framework handled composite expressions like $\\log(1+e^x)$ and wave functions correctly.  \n",
    "\n",
    "What I found most rewarding was seeing how Python’s operator overloading lets us encode calculus rules directly in code. At first, addition and subtraction were simple, but multiplication and division required careful use of the product and quotient rules. Extending the class with the chain rule showed me how easily new functions could be added once the core logic was in place. Verification against analytical derivatives confirmed that the framework was working as intended.  \n",
    "\n",
    "Working on this project also taught me a lot about **structuring code and explanations in a Jupyter Notebook**. Writing Markdown explanations alongside code made me reflect more deeply on the mathematics behind each operator and function. It was not just about making the program run, but also about clearly explaining *why* the output was correct.  \n",
    "\n",
    "Finally, I also saw the broader strengths of automatic differentiation compared to numerical methods: AD avoids truncation errors, gives results accurate to machine precision, and scales efficiently to more complex functions. The main challenge is implementation complexity, but I think this project gave me a strong foundation for understanding both the mathematics and the coding aspects of AD.  \n",
    "\n",
    "As a group, I think we worked very well together and everything went smoothly. We divided the tasks in a balanced way and supported each other when needed, which made the workflow efficient and enjoyable.\n"
   ]
  }
 ],
 "metadata": {
  "kernelspec": {
   "display_name": ".venv",
   "language": "python",
   "name": "python3"
  },
  "language_info": {
   "codemirror_mode": {
    "name": "ipython",
    "version": 3
   },
   "file_extension": ".py",
   "mimetype": "text/x-python",
   "name": "python",
   "nbconvert_exporter": "python",
   "pygments_lexer": "ipython3",
   "version": "3.11.4"
  }
 },
 "nbformat": 4,
 "nbformat_minor": 5
}
