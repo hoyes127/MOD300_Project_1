{
 "cells": [
  {
   "cell_type": "markdown",
   "id": "e7f6b2e6",
   "metadata": {},
   "source": [
    "# Automatic (derivatives) for the people and a song of ice and fire\n",
    "\n",
    "#### Stian Salte, Rebecca Vangen, Jahad Ahmed Hamidi, Ruhan Reza"
   ]
  },
  {
   "cell_type": "code",
   "execution_count": null,
   "id": "4df0aeee",
   "metadata": {},
   "outputs": [],
   "source": [
    "import matplotlib.pyplot as plt\n",
    "import numpy as np\n",
    "import math\n"
   ]
  },
  {
   "cell_type": "markdown",
   "id": "d1d75953",
   "metadata": {},
   "source": [
    "### Exercise 1\n",
    "\n",
    "#### Part 1\n",
    "\n",
    "We import sys and get float info"
   ]
  },
  {
   "cell_type": "code",
   "execution_count": 1,
   "id": "52a18aa9",
   "metadata": {},
   "outputs": [
    {
     "name": "stdout",
     "output_type": "stream",
     "text": [
      "sys.float_info(max=1.7976931348623157e+308, max_exp=1024, max_10_exp=308, min=2.2250738585072014e-308, min_exp=-1021, min_10_exp=-307, dig=15, mant_dig=53, epsilon=2.220446049250313e-16, radix=2, rounds=1)\n",
      "18446744073709551616\n"
     ]
    }
   ],
   "source": [
    "import sys\n",
    "print(sys.float_info)\n",
    "pos_zero = 0.0\n",
    "print(2**64)"
   ]
  },
  {
   "cell_type": "markdown",
   "id": "4897fdd5",
   "metadata": {},
   "source": [
    "Max is the largest representable number in computers, similarily min is the smallest representable number in computers.\n",
    "Epsilon tells us the smallest number we can add to one to get something other than one.\n",
    "\n",
    "\n",
    "\n",
    "Machine precision, epsilon is the smallest number we can add to one\n",
    "and get something different than one, i.e. 1 + epsilon > 1. For a 64-bits\n",
    "computer this value is epsilon = 2−52 ' 2.2204 × 10−16"
   ]
  }
 ],
 "metadata": {
  "kernelspec": {
   "display_name": ".venv",
   "language": "python",
   "name": "python3"
  },
  "language_info": {
   "codemirror_mode": {
    "name": "ipython",
    "version": 3
   },
   "file_extension": ".py",
   "mimetype": "text/x-python",
   "name": "python",
   "nbconvert_exporter": "python",
   "pygments_lexer": "ipython3",
   "version": "3.12.3"
  }
 },
 "nbformat": 4,
 "nbformat_minor": 5
}
